{
 "cells": [
  {
   "cell_type": "code",
   "execution_count": 1,
   "id": "62ff571c",
   "metadata": {},
   "outputs": [],
   "source": [
    "from datetime import datetime, timedelta\n",
    "from sqlalchemy import create_engine, MetaData, Table\n",
    "import pandas as pd\n",
    "today = datetime.now()\n",
    "yesterday = today - timedelta(days=3)\n",
    "yesterday = yesterday.strftime('%Y-%m-%d')\n",
    "engine = create_engine('mysql+pymysql://root@localhost/footviz')\n",
    "df_partidos_ayer = pd.read_sql(f\"SELECT * FROM partido WHERE fecha = '{yesterday}'\", engine)\n"
   ]
  },
  {
   "cell_type": "code",
   "execution_count": 2,
   "id": "ebea4b91",
   "metadata": {},
   "outputs": [
    {
     "data": {
      "text/html": [
       "<div>\n",
       "<style scoped>\n",
       "    .dataframe tbody tr th:only-of-type {\n",
       "        vertical-align: middle;\n",
       "    }\n",
       "\n",
       "    .dataframe tbody tr th {\n",
       "        vertical-align: top;\n",
       "    }\n",
       "\n",
       "    .dataframe thead th {\n",
       "        text-align: right;\n",
       "    }\n",
       "</style>\n",
       "<table border=\"1\" class=\"dataframe\">\n",
       "  <thead>\n",
       "    <tr style=\"text-align: right;\">\n",
       "      <th></th>\n",
       "      <th>id_partido</th>\n",
       "      <th>jornada</th>\n",
       "      <th>url_fbref</th>\n",
       "      <th>url_sofascore</th>\n",
       "      <th>fecha</th>\n",
       "      <th>temporada</th>\n",
       "      <th>equipo_local</th>\n",
       "      <th>equipo_visitante</th>\n",
       "      <th>estadio</th>\n",
       "      <th>arbitro</th>\n",
       "    </tr>\n",
       "  </thead>\n",
       "  <tbody>\n",
       "    <tr>\n",
       "      <th>0</th>\n",
       "      <td>20</td>\n",
       "      <td>2</td>\n",
       "      <td>None</td>\n",
       "      <td>https://www.sofascore.com/football/match/liver...</td>\n",
       "      <td>2025-08-25</td>\n",
       "      <td>1</td>\n",
       "      <td>15</td>\n",
       "      <td>12</td>\n",
       "      <td>15</td>\n",
       "      <td>None</td>\n",
       "    </tr>\n",
       "    <tr>\n",
       "      <th>1</th>\n",
       "      <td>399</td>\n",
       "      <td>2</td>\n",
       "      <td>None</td>\n",
       "      <td>https://www.sofascore.com/football/match/athle...</td>\n",
       "      <td>2025-08-25</td>\n",
       "      <td>2</td>\n",
       "      <td>21</td>\n",
       "      <td>31</td>\n",
       "      <td>21</td>\n",
       "      <td>None</td>\n",
       "    </tr>\n",
       "    <tr>\n",
       "      <th>2</th>\n",
       "      <td>400</td>\n",
       "      <td>2</td>\n",
       "      <td>None</td>\n",
       "      <td>https://www.sofascore.com/football/match/getaf...</td>\n",
       "      <td>2025-08-25</td>\n",
       "      <td>2</td>\n",
       "      <td>38</td>\n",
       "      <td>28</td>\n",
       "      <td>38</td>\n",
       "      <td>None</td>\n",
       "    </tr>\n",
       "    <tr>\n",
       "      <th>3</th>\n",
       "      <td>769</td>\n",
       "      <td>1</td>\n",
       "      <td>None</td>\n",
       "      <td>https://www.sofascore.com/football/match/hella...</td>\n",
       "      <td>2025-08-25</td>\n",
       "      <td>3</td>\n",
       "      <td>58</td>\n",
       "      <td>49</td>\n",
       "      <td>58</td>\n",
       "      <td>None</td>\n",
       "    </tr>\n",
       "    <tr>\n",
       "      <th>4</th>\n",
       "      <td>770</td>\n",
       "      <td>1</td>\n",
       "      <td>None</td>\n",
       "      <td>https://www.sofascore.com/football/match/inter...</td>\n",
       "      <td>2025-08-25</td>\n",
       "      <td>3</td>\n",
       "      <td>50</td>\n",
       "      <td>57</td>\n",
       "      <td>41</td>\n",
       "      <td>None</td>\n",
       "    </tr>\n",
       "  </tbody>\n",
       "</table>\n",
       "</div>"
      ],
      "text/plain": [
       "   id_partido  jornada url_fbref  \\\n",
       "0          20        2      None   \n",
       "1         399        2      None   \n",
       "2         400        2      None   \n",
       "3         769        1      None   \n",
       "4         770        1      None   \n",
       "\n",
       "                                       url_sofascore       fecha  temporada  \\\n",
       "0  https://www.sofascore.com/football/match/liver...  2025-08-25          1   \n",
       "1  https://www.sofascore.com/football/match/athle...  2025-08-25          2   \n",
       "2  https://www.sofascore.com/football/match/getaf...  2025-08-25          2   \n",
       "3  https://www.sofascore.com/football/match/hella...  2025-08-25          3   \n",
       "4  https://www.sofascore.com/football/match/inter...  2025-08-25          3   \n",
       "\n",
       "   equipo_local  equipo_visitante  estadio arbitro  \n",
       "0            15                12       15    None  \n",
       "1            21                31       21    None  \n",
       "2            38                28       38    None  \n",
       "3            58                49       58    None  \n",
       "4            50                57       41    None  "
      ]
     },
     "execution_count": 2,
     "metadata": {},
     "output_type": "execute_result"
    }
   ],
   "source": [
    "df_partidos_ayer"
   ]
  },
  {
   "cell_type": "code",
   "execution_count": 1,
   "id": "dc26c3bf",
   "metadata": {},
   "outputs": [],
   "source": [
    "from scrape_sofa import get_sofascore_api_data, init_driver\n",
    "driver = init_driver()\n",
    "\n",
    "data = get_sofascore_api_data(driver, path=f\"api/v1/unique-tournament/8/season/77559/standings/total\")\n"
   ]
  },
  {
   "cell_type": "code",
   "execution_count": 9,
   "id": "65668e9c",
   "metadata": {},
   "outputs": [
    {
     "data": {
      "text/plain": [
       "1"
      ]
     },
     "execution_count": 9,
     "metadata": {},
     "output_type": "execute_result"
    }
   ],
   "source": [
    "data['standings'][0]['rows'][0]['position']"
   ]
  }
 ],
 "metadata": {
  "kernelspec": {
   "display_name": "Python 3",
   "language": "python",
   "name": "python3"
  },
  "language_info": {
   "codemirror_mode": {
    "name": "ipython",
    "version": 3
   },
   "file_extension": ".py",
   "mimetype": "text/x-python",
   "name": "python",
   "nbconvert_exporter": "python",
   "pygments_lexer": "ipython3",
   "version": "3.13.1"
  }
 },
 "nbformat": 4,
 "nbformat_minor": 5
}
