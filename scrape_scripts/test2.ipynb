{
 "cells": [
  {
   "cell_type": "code",
   "execution_count": 1,
   "id": "62ff571c",
   "metadata": {},
   "outputs": [],
   "source": [
    "from datetime import datetime, timedelta\n",
    "from sqlalchemy import create_engine, MetaData, Table\n",
    "from scrape_sofa import get_sofascore_api_data, init_driver\n",
    "import pandas as pd\n",
    "today = datetime.now()\n",
    "yesterday = today - timedelta(days=3)\n",
    "yesterday = yesterday.strftime('%Y-%m-%d')\n",
    "engine = create_engine('mysql+pymysql://root@localhost/footviz')\n",
    "df_partidos_ayer = pd.read_sql(f\"SELECT * FROM partido WHERE fecha = '{yesterday}'\", engine)\n"
   ]
  },
  {
   "cell_type": "code",
   "execution_count": 25,
   "id": "fa1fb21f",
   "metadata": {},
   "outputs": [],
   "source": [
    "df_jugadores1 = pd.read_sql('SELECT count(*) from estadistica_jugador_portero where jugador = 1133;', engine)\n",
    "valor1 = df_jugadores1['count(*)'][0]\n"
   ]
  },
  {
   "cell_type": "code",
   "execution_count": 30,
   "id": "0beb2377",
   "metadata": {},
   "outputs": [
    {
     "data": {
      "text/plain": [
       "np.int64(1)"
      ]
     },
     "execution_count": 30,
     "metadata": {},
     "output_type": "execute_result"
    }
   ],
   "source": [
    "df_jugadores = pd.read_sql('SELECT id_jugador, nombre FROM jugador', engine)\n",
    "df_jugadores['id_jugador'][0]"
   ]
  }
 ],
 "metadata": {
  "kernelspec": {
   "display_name": "Python 3",
   "language": "python",
   "name": "python3"
  },
  "language_info": {
   "codemirror_mode": {
    "name": "ipython",
    "version": 3
   },
   "file_extension": ".py",
   "mimetype": "text/x-python",
   "name": "python",
   "nbconvert_exporter": "python",
   "pygments_lexer": "ipython3",
   "version": "3.13.1"
  }
 },
 "nbformat": 4,
 "nbformat_minor": 5
}
