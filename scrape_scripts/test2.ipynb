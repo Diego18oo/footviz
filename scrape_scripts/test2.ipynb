{
 "cells": [
  {
   "cell_type": "code",
   "execution_count": 1,
   "id": "62ff571c",
   "metadata": {},
   "outputs": [],
   "source": [
    "from datetime import datetime, timedelta\n",
    "from sqlalchemy import create_engine, MetaData, Table\n",
    "from scrape_sofa import get_sofascore_api_data, init_driver, get_all_players_stats_fbref, get_all_teams_stats_fbref\n",
    "from funciones import get_stat\n",
    "import pandas as pd\n",
    "\n",
    "today = datetime.now()\n",
    "yesterday = today - timedelta(days=1)\n",
    "yesterday = yesterday.strftime('%Y-%m-%d')\n",
    "engine = create_engine('mysql+pymysql://root@localhost/footviz')\n",
    "df_partidos_ayer = pd.read_sql(f\"SELECT * FROM partido WHERE fecha = '{yesterday}'\", engine)\n"
   ]
  },
  {
   "cell_type": "code",
   "execution_count": 4,
   "id": "8ec7a74d",
   "metadata": {},
   "outputs": [],
   "source": [
    "driver = init_driver()\n",
    "data = get_sofascore_api_data(driver, path='api/v1/player/814594/unique-tournament/34/season/77356/heatmap/overall')"
   ]
  },
  {
   "cell_type": "code",
   "execution_count": 13,
   "id": "1e828b21",
   "metadata": {},
   "outputs": [
    {
     "data": {
      "text/plain": [
       "67"
      ]
     },
     "execution_count": 13,
     "metadata": {},
     "output_type": "execute_result"
    }
   ],
   "source": [
    "data['points'][0]['x']"
   ]
  },
  {
   "cell_type": "code",
   "execution_count": 15,
   "id": "3fc40436",
   "metadata": {},
   "outputs": [
    {
     "name": "stdout",
     "output_type": "stream",
     "text": [
      "0\n",
      "0\n"
     ]
    }
   ],
   "source": [
    "puntos_x = []\n",
    "puntos_y = []\n",
    "for i in range(len(data['points'])):\n",
    "    puntos_x.append(data['points'][i]['x'])\n",
    "    puntos_y.append(data['points'][i]['y'])\n",
    "\n",
    "\n",
    "print(min(puntos_x))\n",
    "print(min(puntos_y))"
   ]
  }
 ],
 "metadata": {
  "kernelspec": {
   "display_name": "Python 3",
   "language": "python",
   "name": "python3"
  },
  "language_info": {
   "codemirror_mode": {
    "name": "ipython",
    "version": 3
   },
   "file_extension": ".py",
   "mimetype": "text/x-python",
   "name": "python",
   "nbconvert_exporter": "python",
   "pygments_lexer": "ipython3",
   "version": "3.13.1"
  }
 },
 "nbformat": 4,
 "nbformat_minor": 5
}
