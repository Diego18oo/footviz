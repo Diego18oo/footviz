{
 "cells": [
  {
   "cell_type": "code",
   "execution_count": 3,
   "id": "62ff571c",
   "metadata": {},
   "outputs": [],
   "source": [
    "from datetime import datetime, timedelta\n",
    "from sqlalchemy import create_engine, MetaData, Table\n",
    "from scrape_sofa import get_sofascore_api_data, init_driver, get_all_players_stats_fbref, get_all_teams_stats_fbref\n",
    "from funciones import get_stat\n",
    "import pandas as pd\n",
    "\n",
    "today = datetime.now()\n",
    "yesterday = today - timedelta(days=1)\n",
    "yesterday = yesterday.strftime('%Y-%m-%d')\n",
    "engine = create_engine('mysql+pymysql://root@localhost/footviz')\n",
    "df_partidos_ayer = pd.read_sql(f\"SELECT * FROM partido WHERE fecha = '{yesterday}'\", engine)\n"
   ]
  },
  {
   "cell_type": "code",
   "execution_count": 4,
   "id": "c201b9b0",
   "metadata": {},
   "outputs": [],
   "source": [
    "\n",
    "df_alineaciones = pd.read_sql(f'SELECT id_alineacion FROM alineaciones WHERE partido = 12', engine)"
   ]
  },
  {
   "cell_type": "code",
   "execution_count": 7,
   "id": "1a61e265",
   "metadata": {},
   "outputs": [
    {
     "data": {
      "text/plain": [
       "12"
      ]
     },
     "execution_count": 7,
     "metadata": {},
     "output_type": "execute_result"
    }
   ],
   "source": [
    "alineacion = int(df_alineaciones['id_alineacion'])\n",
    "alineacion"
   ]
  }
 ],
 "metadata": {
  "kernelspec": {
   "display_name": "Python 3",
   "language": "python",
   "name": "python3"
  },
  "language_info": {
   "codemirror_mode": {
    "name": "ipython",
    "version": 3
   },
   "file_extension": ".py",
   "mimetype": "text/x-python",
   "name": "python",
   "nbconvert_exporter": "python",
   "pygments_lexer": "ipython3",
   "version": "3.13.1"
  }
 },
 "nbformat": 4,
 "nbformat_minor": 5
}
