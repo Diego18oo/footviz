{
 "cells": [
  {
   "cell_type": "code",
   "execution_count": 4,
   "id": "62ff571c",
   "metadata": {},
   "outputs": [],
   "source": [
    "from datetime import datetime, timedelta\n",
    "from sqlalchemy import create_engine, MetaData, Table\n",
    "from scrape_sofa import get_sofascore_api_data, init_driver\n",
    "import pandas as pd\n",
    "today = datetime.now()\n",
    "yesterday = today - timedelta(days=3)\n",
    "yesterday = yesterday.strftime('%Y-%m-%d')\n",
    "engine = create_engine('mysql+pymysql://root@localhost/footviz')\n",
    "df_partidos_ayer = pd.read_sql(f\"SELECT * FROM partido WHERE fecha = '{yesterday}'\", engine)\n"
   ]
  },
  {
   "cell_type": "code",
   "execution_count": 128,
   "id": "5917dfd9",
   "metadata": {},
   "outputs": [],
   "source": [
    "driver = init_driver()\n",
    "data = get_sofascore_api_data(driver, path='api/v1/event/14065706/lineups')\n",
    "incidents = get_sofascore_api_data(driver, path='api/v1/event/14065706/incidents')"
   ]
  },
  {
   "cell_type": "code",
   "execution_count": 179,
   "id": "17d12b4f",
   "metadata": {},
   "outputs": [
    {
     "data": {
      "text/plain": [
       "{'totalPass': 48,\n",
       " 'accuratePass': 42,\n",
       " 'totalLongBalls': 7,\n",
       " 'accurateLongBalls': 6,\n",
       " 'goalAssist': 0,\n",
       " 'aerialWon': 1,\n",
       " 'duelLost': 3,\n",
       " 'duelWon': 1,\n",
       " 'challengeLost': 1,\n",
       " 'blockedScoringAttempt': 1,\n",
       " 'totalClearance': 4,\n",
       " 'outfielderBlock': 1,\n",
       " 'interceptionWon': 2,\n",
       " 'wasFouled': 1,\n",
       " 'fouls': 2,\n",
       " 'minutesPlayed': 90,\n",
       " 'touches': 59,\n",
       " 'rating': 6.7,\n",
       " 'possessionLostCtrl': 6,\n",
       " 'expectedGoals': 0.0272,\n",
       " 'ratingVersions': {'original': 6.7, 'alternative': 6.9},\n",
       " 'expectedAssists': 0.00773052}"
      ]
     },
     "execution_count": 179,
     "metadata": {},
     "output_type": "execute_result"
    }
   ],
   "source": [
    "data['home']['players'][2]['statistics']"
   ]
  },
  {
   "cell_type": "code",
   "execution_count": 140,
   "id": "0626afb7",
   "metadata": {},
   "outputs": [
    {
     "data": {
      "text/plain": [
       "1492676"
      ]
     },
     "execution_count": 140,
     "metadata": {},
     "output_type": "execute_result"
    }
   ],
   "source": [
    "incidents['incidents'][4]['player']['id']"
   ]
  },
  {
   "cell_type": "code",
   "execution_count": 158,
   "id": "960e55f5",
   "metadata": {},
   "outputs": [
    {
     "name": "stdout",
     "output_type": "stream",
     "text": [
      ",\n",
      ",\n",
      ",\n",
      ",\n",
      "[1130939, 1410148, 1049517]\n",
      "[1492676]\n",
      "[]\n",
      "15219\n",
      "825846\n",
      "146101\n",
      "1407848\n",
      "845170\n",
      "1389846\n",
      "770677\n",
      "1130939\n",
      "Jugador 1130939 con amarilla\n",
      "1083007\n",
      "318963\n",
      "934237\n",
      "1868591\n",
      "868964\n",
      "1462434\n",
      "155818\n",
      "1410148\n",
      "Jugador 1410148 con amarilla\n",
      "1397558\n",
      "281277\n",
      "946158\n",
      "1403216\n"
     ]
    }
   ],
   "source": [
    "lista_amarillas = []\n",
    "lista_rojas = []\n",
    "lista_amarillas_rojas = []\n",
    "for i in range(len(incidents['incidents'])):\n",
    "    try: \n",
    "        if incidents['incidents'][i]['incidentClass'] == 'yellow':\n",
    "            id_jugador = incidents['incidents'][i]['player']['id']\n",
    "            lista_amarillas.append(id_jugador)\n",
    "        elif incidents['incidents'][i]['incidentClass'] == 'yellowRed':\n",
    "            id_jugador = incidents['incidents'][i]['player']['id']\n",
    "            lista_amarillas_rojas.append(id_jugador)\n",
    "        elif incidents['incidents'][i]['incidentClass'] == 'red':\n",
    "            id_jugador = incidents['incidents'][i]['player']['id']\n",
    "            lista_rojas.append(id_jugador)\n",
    "    except KeyError:\n",
    "        print(\",\")\n",
    "        \n",
    "print(lista_amarillas)\n",
    "print(lista_rojas)\n",
    "print(lista_amarillas_rojas)\n",
    "\n",
    "for i in range(len(data['home']['players'])):\n",
    "    id_sofa = data['home']['players'][i]['player']['id']\n",
    "    print(id_sofa)\n",
    "    if id_sofa in lista_amarillas:\n",
    "        print(f\"Jugador {id_sofa} con amarilla\")\n",
    "    elif id_sofa in lista_rojas:\n",
    "        print(f\"Jugador {id_sofa} con roja\")\n",
    "    elif id_sofa in lista_amarillas_rojas:\n",
    "        print(f\"Jugador {id_sofa} con segunda amarilla\")\n",
    "   "
   ]
  }
 ],
 "metadata": {
  "kernelspec": {
   "display_name": "Python 3",
   "language": "python",
   "name": "python3"
  },
  "language_info": {
   "codemirror_mode": {
    "name": "ipython",
    "version": 3
   },
   "file_extension": ".py",
   "mimetype": "text/x-python",
   "name": "python",
   "nbconvert_exporter": "python",
   "pygments_lexer": "ipython3",
   "version": "3.13.1"
  }
 },
 "nbformat": 4,
 "nbformat_minor": 5
}
