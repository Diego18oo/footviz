{
 "cells": [
  {
   "cell_type": "code",
   "execution_count": 2,
   "id": "62ff571c",
   "metadata": {},
   "outputs": [],
   "source": [
    "from datetime import datetime, timedelta\n",
    "from sqlalchemy import create_engine, MetaData, Table\n",
    "from scrape_sofa import get_sofascore_api_data, init_driver, get_all_players_stats_fbref, get_all_teams_stats_fbref\n",
    "from funciones import get_stat\n",
    "import pandas as pd\n",
    "\n",
    "today = datetime.now()\n",
    "yesterday = today - timedelta(days=1)\n",
    "yesterday = yesterday.strftime('%Y-%m-%d')\n",
    "engine = create_engine('mysql+pymysql://root@localhost/footviz')\n",
    "df_partidos_ayer = pd.read_sql(f\"SELECT * FROM partido WHERE fecha = '{yesterday}'\", engine)\n"
   ]
  },
  {
   "cell_type": "code",
   "execution_count": 3,
   "id": "c9896b12",
   "metadata": {},
   "outputs": [],
   "source": [
    "driver = init_driver()\n",
    "data = get_sofascore_api_data(driver, path='api/v1/unique-tournament/17/season/76986/team/44/team-performance-graph-data')"
   ]
  },
  {
   "cell_type": "code",
   "execution_count": 105,
   "id": "fba7519e",
   "metadata": {},
   "outputs": [
    {
     "data": {
      "text/plain": [
       "[4,\n",
       " 3,\n",
       " 1,\n",
       " 1,\n",
       " 0,\n",
       " 0,\n",
       " 0,\n",
       " 0,\n",
       " 0,\n",
       " 0,\n",
       " 0,\n",
       " 0,\n",
       " 0,\n",
       " 0,\n",
       " 0,\n",
       " 0,\n",
       " 0,\n",
       " 0,\n",
       " 0,\n",
       " 0,\n",
       " 0,\n",
       " 0,\n",
       " 0,\n",
       " 0,\n",
       " 0,\n",
       " 0,\n",
       " 0,\n",
       " 0,\n",
       " 0,\n",
       " 0,\n",
       " 0,\n",
       " 0,\n",
       " 0,\n",
       " 0,\n",
       " 0,\n",
       " 0,\n",
       " 0,\n",
       " 0]"
      ]
     },
     "execution_count": 105,
     "metadata": {},
     "output_type": "execute_result"
    }
   ],
   "source": [
    "jornadas = []\n",
    "\n",
    "for jornada in range(len(data['graphData'])):\n",
    "    jornadas.append(data['graphData'][jornada]['position'])\n",
    "   \n",
    "\n",
    "jornadas_restates = 38 - len(jornadas)\n",
    "for i in range(jornadas_restates):\n",
    "    jornadas.append(0)\n",
    "\n",
    "len(jornadas)\n",
    "\n",
    "jornadas"
   ]
  },
  {
   "cell_type": "code",
   "execution_count": 30,
   "id": "2850c3ea",
   "metadata": {},
   "outputs": [],
   "source": [
    "data2 = get_sofascore_api_data(driver, path=f\"api/v1/unique-tournament/17/season/76986/standings/total\")"
   ]
  },
  {
   "cell_type": "code",
   "execution_count": 41,
   "id": "5246108e",
   "metadata": {},
   "outputs": [
    {
     "data": {
      "text/plain": [
       "44"
      ]
     },
     "execution_count": 41,
     "metadata": {},
     "output_type": "execute_result"
    }
   ],
   "source": [
    "torneo = data2['standings'][0]\n",
    "torneo['rows'][0]['team']['id']"
   ]
  }
 ],
 "metadata": {
  "kernelspec": {
   "display_name": "Python 3",
   "language": "python",
   "name": "python3"
  },
  "language_info": {
   "codemirror_mode": {
    "name": "ipython",
    "version": 3
   },
   "file_extension": ".py",
   "mimetype": "text/x-python",
   "name": "python",
   "nbconvert_exporter": "python",
   "pygments_lexer": "ipython3",
   "version": "3.13.1"
  }
 },
 "nbformat": 4,
 "nbformat_minor": 5
}
