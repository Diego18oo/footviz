{
 "cells": [
  {
   "cell_type": "code",
   "execution_count": 13,
   "id": "62ff571c",
   "metadata": {},
   "outputs": [],
   "source": [
    "from datetime import datetime, timedelta\n",
    "from sqlalchemy import create_engine, MetaData, Table\n",
    "from scrape_sofa import get_sofascore_api_data, init_driver, get_all_players_stats_fbref, get_all_teams_stats_fbref\n",
    "from funciones import get_stat\n",
    "import pandas as pd\n",
    "\n",
    "today = datetime.now()\n",
    "yesterday = today - timedelta(days=3)\n",
    "yesterday = yesterday.strftime('%Y-%m-%d')\n",
    "engine = create_engine('mysql+pymysql://root@localhost/footviz')\n",
    "df_partidos_ayer = pd.read_sql(f\"SELECT * FROM partido WHERE fecha = '{yesterday}'\", engine)\n"
   ]
  },
  {
   "cell_type": "code",
   "execution_count": 2,
   "id": "e1e08983",
   "metadata": {},
   "outputs": [],
   "source": [
    "driver =  init_driver()\n",
    "data = get_sofascore_api_data(driver, path='api/v1/event/12436541/statistics')\n"
   ]
  },
  {
   "cell_type": "code",
   "execution_count": 11,
   "id": "693651d0",
   "metadata": {},
   "outputs": [],
   "source": [
    "info = data['statistics'][0]['groups'][0]['statisticsItems']"
   ]
  },
  {
   "cell_type": "code",
   "execution_count": 16,
   "id": "767daba6",
   "metadata": {},
   "outputs": [
    {
     "data": {
      "text/plain": [
       "'1.27'"
      ]
     },
     "execution_count": 16,
     "metadata": {},
     "output_type": "execute_result"
    }
   ],
   "source": [
    "xg = get_stat(info, \"Expected goals\", default={\"home\":0, \"away\":0})\n",
    "xg['home']"
   ]
  }
 ],
 "metadata": {
  "kernelspec": {
   "display_name": "Python 3",
   "language": "python",
   "name": "python3"
  },
  "language_info": {
   "codemirror_mode": {
    "name": "ipython",
    "version": 3
   },
   "file_extension": ".py",
   "mimetype": "text/x-python",
   "name": "python",
   "nbconvert_exporter": "python",
   "pygments_lexer": "ipython3",
   "version": "3.13.1"
  }
 },
 "nbformat": 4,
 "nbformat_minor": 5
}
