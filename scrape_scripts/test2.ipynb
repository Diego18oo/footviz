{
 "cells": [
  {
   "cell_type": "code",
   "execution_count": 1,
   "id": "62ff571c",
   "metadata": {},
   "outputs": [],
   "source": [
    "from datetime import datetime, timedelta\n",
    "from sqlalchemy import create_engine, MetaData, Table\n",
    "from scrape_sofa import get_sofascore_api_data, init_driver, get_all_players_stats_fbref\n",
    "import pandas as pd\n",
    "today = datetime.now()\n",
    "yesterday = today - timedelta(days=3)\n",
    "yesterday = yesterday.strftime('%Y-%m-%d')\n",
    "engine = create_engine('mysql+pymysql://root@localhost/footviz')\n",
    "df_partidos_ayer = pd.read_sql(f\"SELECT * FROM partido WHERE fecha = '{yesterday}'\", engine)\n"
   ]
  },
  {
   "cell_type": "code",
   "execution_count": 21,
   "id": "fa1fb21f",
   "metadata": {},
   "outputs": [
    {
     "name": "stdout",
     "output_type": "stream",
     "text": [
      "Scraping: https://fbref.com/en/comps/9/keepers/Premier-League-Stats\n"
     ]
    },
    {
     "name": "stderr",
     "output_type": "stream",
     "text": [
      "c:\\Users\\amrr1\\Documents\\Proyectos\\BaseDeDatos\\scrape_scripts\\scrape_sofa.py:89: FutureWarning: Passing literal html to 'read_html' is deprecated and will be removed in a future version. To read from a literal string, wrap it in a 'StringIO' object.\n",
      "  placeholder = pd.concat([pd.read_html(str(tbl))[0] for tbl in player_tables], axis=0, ignore_index=True)\n"
     ]
    },
    {
     "name": "stdout",
     "output_type": "stream",
     "text": [
      "Scraping: https://fbref.com/en/comps/9/keepersadv/Premier-League-Stats\n"
     ]
    },
    {
     "name": "stderr",
     "output_type": "stream",
     "text": [
      "c:\\Users\\amrr1\\Documents\\Proyectos\\BaseDeDatos\\scrape_scripts\\scrape_sofa.py:89: FutureWarning: Passing literal html to 'read_html' is deprecated and will be removed in a future version. To read from a literal string, wrap it in a 'StringIO' object.\n",
      "  placeholder = pd.concat([pd.read_html(str(tbl))[0] for tbl in player_tables], axis=0, ignore_index=True)\n"
     ]
    },
    {
     "name": "stdout",
     "output_type": "stream",
     "text": [
      "Scraping: https://fbref.com/en/comps/9/shooting/Premier-League-Stats\n"
     ]
    },
    {
     "name": "stderr",
     "output_type": "stream",
     "text": [
      "c:\\Users\\amrr1\\Documents\\Proyectos\\BaseDeDatos\\scrape_scripts\\scrape_sofa.py:89: FutureWarning: Passing literal html to 'read_html' is deprecated and will be removed in a future version. To read from a literal string, wrap it in a 'StringIO' object.\n",
      "  placeholder = pd.concat([pd.read_html(str(tbl))[0] for tbl in player_tables], axis=0, ignore_index=True)\n"
     ]
    },
    {
     "name": "stdout",
     "output_type": "stream",
     "text": [
      "Scraping: https://fbref.com/en/comps/9/passing/Premier-League-Stats\n"
     ]
    },
    {
     "name": "stderr",
     "output_type": "stream",
     "text": [
      "c:\\Users\\amrr1\\Documents\\Proyectos\\BaseDeDatos\\scrape_scripts\\scrape_sofa.py:89: FutureWarning: Passing literal html to 'read_html' is deprecated and will be removed in a future version. To read from a literal string, wrap it in a 'StringIO' object.\n",
      "  placeholder = pd.concat([pd.read_html(str(tbl))[0] for tbl in player_tables], axis=0, ignore_index=True)\n"
     ]
    },
    {
     "name": "stdout",
     "output_type": "stream",
     "text": [
      "Scraping: https://fbref.com/en/comps/9/passing_types/Premier-League-Stats\n"
     ]
    },
    {
     "name": "stderr",
     "output_type": "stream",
     "text": [
      "c:\\Users\\amrr1\\Documents\\Proyectos\\BaseDeDatos\\scrape_scripts\\scrape_sofa.py:89: FutureWarning: Passing literal html to 'read_html' is deprecated and will be removed in a future version. To read from a literal string, wrap it in a 'StringIO' object.\n",
      "  placeholder = pd.concat([pd.read_html(str(tbl))[0] for tbl in player_tables], axis=0, ignore_index=True)\n"
     ]
    },
    {
     "name": "stdout",
     "output_type": "stream",
     "text": [
      "Scraping: https://fbref.com/en/comps/9/gca/Premier-League-Stats\n"
     ]
    },
    {
     "name": "stderr",
     "output_type": "stream",
     "text": [
      "c:\\Users\\amrr1\\Documents\\Proyectos\\BaseDeDatos\\scrape_scripts\\scrape_sofa.py:89: FutureWarning: Passing literal html to 'read_html' is deprecated and will be removed in a future version. To read from a literal string, wrap it in a 'StringIO' object.\n",
      "  placeholder = pd.concat([pd.read_html(str(tbl))[0] for tbl in player_tables], axis=0, ignore_index=True)\n"
     ]
    },
    {
     "name": "stdout",
     "output_type": "stream",
     "text": [
      "Scraping: https://fbref.com/en/comps/9/defense/Premier-League-Stats\n"
     ]
    },
    {
     "name": "stderr",
     "output_type": "stream",
     "text": [
      "c:\\Users\\amrr1\\Documents\\Proyectos\\BaseDeDatos\\scrape_scripts\\scrape_sofa.py:89: FutureWarning: Passing literal html to 'read_html' is deprecated and will be removed in a future version. To read from a literal string, wrap it in a 'StringIO' object.\n",
      "  placeholder = pd.concat([pd.read_html(str(tbl))[0] for tbl in player_tables], axis=0, ignore_index=True)\n"
     ]
    },
    {
     "name": "stdout",
     "output_type": "stream",
     "text": [
      "Scraping: https://fbref.com/en/comps/9/possession/Premier-League-Stats\n"
     ]
    },
    {
     "name": "stderr",
     "output_type": "stream",
     "text": [
      "c:\\Users\\amrr1\\Documents\\Proyectos\\BaseDeDatos\\scrape_scripts\\scrape_sofa.py:89: FutureWarning: Passing literal html to 'read_html' is deprecated and will be removed in a future version. To read from a literal string, wrap it in a 'StringIO' object.\n",
      "  placeholder = pd.concat([pd.read_html(str(tbl))[0] for tbl in player_tables], axis=0, ignore_index=True)\n"
     ]
    },
    {
     "name": "stdout",
     "output_type": "stream",
     "text": [
      "Scraping: https://fbref.com/en/comps/9/playingtime/Premier-League-Stats\n"
     ]
    },
    {
     "name": "stderr",
     "output_type": "stream",
     "text": [
      "c:\\Users\\amrr1\\Documents\\Proyectos\\BaseDeDatos\\scrape_scripts\\scrape_sofa.py:89: FutureWarning: Passing literal html to 'read_html' is deprecated and will be removed in a future version. To read from a literal string, wrap it in a 'StringIO' object.\n",
      "  placeholder = pd.concat([pd.read_html(str(tbl))[0] for tbl in player_tables], axis=0, ignore_index=True)\n"
     ]
    },
    {
     "name": "stdout",
     "output_type": "stream",
     "text": [
      "Scraping: https://fbref.com/en/comps/9/misc/Premier-League-Stats\n"
     ]
    },
    {
     "name": "stderr",
     "output_type": "stream",
     "text": [
      "c:\\Users\\amrr1\\Documents\\Proyectos\\BaseDeDatos\\scrape_scripts\\scrape_sofa.py:89: FutureWarning: Passing literal html to 'read_html' is deprecated and will be removed in a future version. To read from a literal string, wrap it in a 'StringIO' object.\n",
      "  placeholder = pd.concat([pd.read_html(str(tbl))[0] for tbl in player_tables], axis=0, ignore_index=True)\n"
     ]
    },
    {
     "name": "stdout",
     "output_type": "stream",
     "text": [
      "Scraping finalizado\n"
     ]
    }
   ],
   "source": [
    "stats_prem = get_all_players_stats_fbref(id_liga_fbref=0)\n"
   ]
  },
  {
   "cell_type": "code",
   "execution_count": 33,
   "id": "65e31898",
   "metadata": {},
   "outputs": [
    {
     "data": {
      "text/plain": [
       "'1'"
      ]
     },
     "execution_count": 33,
     "metadata": {},
     "output_type": "execute_result"
    }
   ],
   "source": [
    "stats_prem[0].iloc[136]['MP']"
   ]
  }
 ],
 "metadata": {
  "kernelspec": {
   "display_name": "Python 3",
   "language": "python",
   "name": "python3"
  },
  "language_info": {
   "codemirror_mode": {
    "name": "ipython",
    "version": 3
   },
   "file_extension": ".py",
   "mimetype": "text/x-python",
   "name": "python",
   "nbconvert_exporter": "python",
   "pygments_lexer": "ipython3",
   "version": "3.13.1"
  }
 },
 "nbformat": 4,
 "nbformat_minor": 5
}
